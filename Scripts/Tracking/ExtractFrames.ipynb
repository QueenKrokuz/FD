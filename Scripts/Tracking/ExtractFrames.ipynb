{
 "cells": [
  {
   "cell_type": "code",
   "execution_count": null,
   "metadata": {
    "id": "CCCpiFgLKtSf"
   },
   "outputs": [],
   "source": [
    "# Import packages as needed\n",
    "import os\n",
    "import time\n",
    "import cv2 as cv\n",
    "import numpy as np\n",
    "\n",
    "from tqdm import tqdm\n",
    "from skimage import io\n",
    "from skimage.util import img_as_ubyte\n",
    "from sklearn.cluster import MiniBatchKMeans"
   ]
  },
  {
   "cell_type": "code",
   "execution_count": null,
   "metadata": {
    "id": "TCaALo_wKtSm",
    "outputId": "85e9ff4c-e109-4b6f-aca7-b553df4912f0"
   },
   "outputs": [
    {
     "name": "stdout",
     "output_type": "stream",
     "text": [
      "cut4-cropCichlid1_080624_2_ind1\n"
     ]
    },
    {
     "name": "stderr",
     "output_type": "stream",
     "text": [
      "100%|██████████| 216000/216000 [00:11<00:00, 19189.89it/s]\n"
     ]
    },
    {
     "name": "stdout",
     "output_type": "stream",
     "text": [
      "Kmeans clustering ... (this might take a while)\n",
      "batching...\n",
      "Storing Frames\n"
     ]
    },
    {
     "name": "stderr",
     "output_type": "stream",
     "text": [
      "100%|██████████| 10/10 [00:00<00:00, 5108.77it/s]\n"
     ]
    },
    {
     "name": "stdout",
     "output_type": "stream",
     "text": [
      "Choosing Frames\n"
     ]
    },
    {
     "name": "stderr",
     "output_type": "stream",
     "text": [
      "100%|██████████| 10/10 [00:00<00:00, 106.78it/s]"
     ]
    },
    {
     "name": "stdout",
     "output_type": "stream",
     "text": [
      "Capture release\n"
     ]
    },
    {
     "name": "stderr",
     "output_type": "stream",
     "text": [
      "\n"
     ]
    }
   ],
   "source": [
    "# Adapted from frame_extraction.py from DeepLabCut github, which has been heavily condensed and modified for my purposes\n",
    "# The original file contains this attribution over the original code\n",
    "#\n",
    "# 'DeepLabCut Toolbox (deeplabcut.org)\n",
    "# © A. & M.W. Mathis Labs\n",
    "# https://github.com/DeepLabCut/DeepLabCut\n",
    "#\n",
    "# Please see AUTHORS for contributors.\n",
    "# https://github.com/DeepLabCut/DeepLabCut/blob/master/AUTHORS\n",
    "#\n",
    "# Licensed under GNU Lesser General Public License v3.0'\n",
    "#\n",
    "\n",
    "# Set static variables\n",
    "numframes2pick = 10\n",
    "resizewidth = 30\n",
    "batchsize = 5\n",
    "max_iter = 50\n",
    "\n",
    "# Change working directory to Video Folder\n",
    "os.chdir('/home/moonmoon/SCCichlidVid/Group/Extraction/')\n",
    "\n",
    "# Loop through all files in working directory\n",
    "for avi in os.listdir():\n",
    "    # Save video name without extension for output folder\n",
    "    aviname, ext = os.path.splitext(avi)\n",
    "\n",
    "    # Set output path for extracted frames inside folder named after video\n",
    "    output_path = '/home/moonmoon/SCCichlidVid/Group/Extraction/extracted-frames/' + str(aviname) + '/'\n",
    "\n",
    "    # If output_path exists\n",
    "    if os.path.exists(output_path):\n",
    "        pass # do nothing\n",
    "    else:\n",
    "        os.makedirs(output_path, exist_ok = True) # make output_path\n",
    "\n",
    "    # Reset frame index and allocation indicator\n",
    "    Index = None\n",
    "    allocated = None\n",
    "\n",
    "    # Check that file ends with .avi\n",
    "    if avi.endswith(\".avi\"):\n",
    "        # Print aviname\n",
    "        print(aviname)\n",
    "\n",
    "        # Open the video file\n",
    "        cap = cv.VideoCapture(avi)\n",
    "\n",
    "        # Pull frame count\n",
    "        frame_count = int(cap.get(cv.CAP_PROP_FRAME_COUNT))\n",
    "\n",
    "        # Set original dimensions for downsampling\n",
    "        x, y = (320, 240)\n",
    "\n",
    "        # Calculate ratio needed for downsampling\n",
    "        ratio = resizewidth * 1.0 / x\n",
    "\n",
    "        # Ensure batchsize is lesser than frame_count\n",
    "        if batchsize > frame_count:\n",
    "            batchsize = frame_count // 2\n",
    "\n",
    "        # Setup Frame Index numpy array, length of frame_count\n",
    "        if Index is None:\n",
    "            Index = np.arange(0, frame_count, 1)\n",
    "\n",
    "        # Loop through range of Index\n",
    "        for counter, index in tqdm(enumerate(Index), total = frame_count):\n",
    "            # Read a frame from the video\n",
    "            success, frame = cap.read()\n",
    "\n",
    "            # Check if frame is successfully read or not\n",
    "            if success:\n",
    "                # If read successfully, resize image based on downsampling ratio, and convert to ubyte for kmeans calculations\n",
    "                image = img_as_ubyte(cv.resize(frame, None, fx=ratio, fy=ratio, interpolation=cv.INTER_NEAREST,) )\n",
    "                # If allocated is not True\n",
    "                if(not allocated):  #DATA not in locals(): #allocate memory in first pass\n",
    "                    # Create DATA, numpy array containing frame_count and ubyte data\n",
    "                    DATA = np.empty((frame_count, np.shape(image)[0], np.shape(image)[1]))\n",
    "                    # Indicate DATA has been created\n",
    "                    allocated = True\n",
    "                # Store image mean in DATA for each frame\n",
    "                DATA[counter, :, :] = np.mean(image, 2)\n",
    "            # Break loop when no more frames\n",
    "            else:\n",
    "                break\n",
    "\n",
    "        # Print update in code progress\n",
    "        print(\"Kmeans clustering ... (this might take a while)\")\n",
    "\n",
    "        # Subtract DATA mean of axis 0 from DATA to create array of differences\n",
    "        data = DATA - DATA.mean(axis = 0)\n",
    "        data = data.reshape(frame_count, -1)  # stacking\n",
    "\n",
    "        # Setup minibatchkmeans\n",
    "        print('batching...')\n",
    "        kmeans = MiniBatchKMeans(n_clusters = numframes2pick, tol = 1e-3, batch_size = batchsize, max_iter = max_iter)\n",
    "        kmeans = kmeans.fit(data) # run on difference data\n",
    "\n",
    "        print(\"Storing Frames\")\n",
    "        # Create array to store chosen frames\n",
    "        frames2pick = []\n",
    "        # Loop through the range of number of frames to pick inside progress bar module storing counter in clusterid\n",
    "        for clusterid in tqdm(range(numframes2pick), total = numframes2pick):  # pick one frame per cluster\n",
    "            # Match kmeans labels to counter and store in clusterids\n",
    "            clusterids = np.where(clusterid == kmeans.labels_)[0]\n",
    "            # Store clusterids length in numimagesofcluster\n",
    "            numimagesofcluster = len(clusterids)\n",
    "            # If length is greater than zero\n",
    "            if numimagesofcluster > 0:\n",
    "                # Add frame id to frames to pick array\n",
    "                frames2pick.append(Index[clusterids[np.random.randint(numimagesofcluster)]])\n",
    "\n",
    "        print(\"Choosing Frames\")\n",
    "        # Loop through frames to pick array\n",
    "        for counter, index in tqdm(enumerate(frames2pick), total = len(frames2pick)):\n",
    "            # Set capture object to index (frame number)\n",
    "            cap.set(cv.CAP_PROP_POS_FRAMES, index)\n",
    "            success, frame = cap.read() # read frame\n",
    "            # Check if frame is successfully read\n",
    "            if success:\n",
    "                # If read successfully, create image name for frame to be saved\n",
    "                img_name = (str(output_path) + str(index) + \".png\")\n",
    "                cv.imwrite(img_name, frame) # save frame\n",
    "        print(\"Capture release\")\n",
    "        # Release video capture object\n",
    "        cap.release()"
   ]
  }
 ],
 "metadata": {
  "colab": {
   "provenance": []
  },
  "kernelspec": {
   "display_name": "python-sandbox",
   "language": "python",
   "name": "python3"
  },
  "language_info": {
   "codemirror_mode": {
    "name": "ipython",
    "version": 3
   },
   "file_extension": ".py",
   "mimetype": "text/x-python",
   "name": "python",
   "nbconvert_exporter": "python",
   "pygments_lexer": "ipython3",
   "version": "3.12.3"
  }
 },
 "nbformat": 4,
 "nbformat_minor": 0
}
